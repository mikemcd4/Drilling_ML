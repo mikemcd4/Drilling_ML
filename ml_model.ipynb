{
 "cells": [
  {
   "cell_type": "code",
   "execution_count": 1,
   "id": "011d5f7d",
   "metadata": {},
   "outputs": [],
   "source": [
    "import pandas as pd\n",
    "from pathlib import Path\n",
    "import matplotlib.pyplot as plt\n",
    "from sklearn.linear_model import LinearRegression"
   ]
  },
  {
   "cell_type": "code",
   "execution_count": 3,
   "id": "d6e892d1",
   "metadata": {},
   "outputs": [
    {
     "data": {
      "text/html": [
       "<div>\n",
       "<style scoped>\n",
       "    .dataframe tbody tr th:only-of-type {\n",
       "        vertical-align: middle;\n",
       "    }\n",
       "\n",
       "    .dataframe tbody tr th {\n",
       "        vertical-align: top;\n",
       "    }\n",
       "\n",
       "    .dataframe thead th {\n",
       "        text-align: right;\n",
       "    }\n",
       "</style>\n",
       "<table border=\"1\" class=\"dataframe\">\n",
       "  <thead>\n",
       "    <tr style=\"text-align: right;\">\n",
       "      <th></th>\n",
       "      <th>Well Name</th>\n",
       "      <th>Bit RPM (RPM)</th>\n",
       "      <th>Bit Torque (kft_lb)</th>\n",
       "      <th>Depth of Cut (in)</th>\n",
       "      <th>Gamma (api)</th>\n",
       "      <th>Mechanical Specific Energy (ksi)</th>\n",
       "      <th>On Bottom ROP (ft_per_hr)</th>\n",
       "      <th>Rotary RPM (RPM)</th>\n",
       "      <th>Total Pump Output (gal_per_min)</th>\n",
       "      <th>Weight on Bit (klbs)</th>\n",
       "    </tr>\n",
       "  </thead>\n",
       "  <tbody>\n",
       "    <tr>\n",
       "      <th>0</th>\n",
       "      <td>Well 1</td>\n",
       "      <td>177</td>\n",
       "      <td>3</td>\n",
       "      <td>0.061</td>\n",
       "      <td>1.211953e+02</td>\n",
       "      <td>6.280000e+01</td>\n",
       "      <td>53.39</td>\n",
       "      <td>8.06</td>\n",
       "      <td>604.15</td>\n",
       "      <td>56.0</td>\n",
       "    </tr>\n",
       "    <tr>\n",
       "      <th>1</th>\n",
       "      <td>Well 1</td>\n",
       "      <td>221</td>\n",
       "      <td>3</td>\n",
       "      <td>0.015</td>\n",
       "      <td>1.216004e+10</td>\n",
       "      <td>1.747549e+10</td>\n",
       "      <td>14.66</td>\n",
       "      <td>29.54</td>\n",
       "      <td>769.07</td>\n",
       "      <td>34.3</td>\n",
       "    </tr>\n",
       "    <tr>\n",
       "      <th>2</th>\n",
       "      <td>Well 1</td>\n",
       "      <td>221</td>\n",
       "      <td>1</td>\n",
       "      <td>0.013</td>\n",
       "      <td>1.098020e+02</td>\n",
       "      <td>9.770000e+01</td>\n",
       "      <td>10.12</td>\n",
       "      <td>29.62</td>\n",
       "      <td>771.56</td>\n",
       "      <td>14.1</td>\n",
       "    </tr>\n",
       "    <tr>\n",
       "      <th>3</th>\n",
       "      <td>Well 1</td>\n",
       "      <td>225</td>\n",
       "      <td>1</td>\n",
       "      <td>0.013</td>\n",
       "      <td>9.126216e+02</td>\n",
       "      <td>1.243000e+02</td>\n",
       "      <td>10.12</td>\n",
       "      <td>29.48</td>\n",
       "      <td>784.98</td>\n",
       "      <td>13.6</td>\n",
       "    </tr>\n",
       "    <tr>\n",
       "      <th>4</th>\n",
       "      <td>Well 1</td>\n",
       "      <td>205</td>\n",
       "      <td>0</td>\n",
       "      <td>0.064</td>\n",
       "      <td>1.658614e+11</td>\n",
       "      <td>9.400000e+00</td>\n",
       "      <td>65.33</td>\n",
       "      <td>28.75</td>\n",
       "      <td>708.25</td>\n",
       "      <td>6.2</td>\n",
       "    </tr>\n",
       "  </tbody>\n",
       "</table>\n",
       "</div>"
      ],
      "text/plain": [
       "  Well Name  Bit RPM (RPM)  Bit Torque (kft_lb)  Depth of Cut (in)  \\\n",
       "0    Well 1            177                    3              0.061   \n",
       "1    Well 1            221                    3              0.015   \n",
       "2    Well 1            221                    1              0.013   \n",
       "3    Well 1            225                    1              0.013   \n",
       "4    Well 1            205                    0              0.064   \n",
       "\n",
       "    Gamma (api)  Mechanical Specific Energy (ksi)  On Bottom ROP (ft_per_hr)  \\\n",
       "0  1.211953e+02                      6.280000e+01                      53.39   \n",
       "1  1.216004e+10                      1.747549e+10                      14.66   \n",
       "2  1.098020e+02                      9.770000e+01                      10.12   \n",
       "3  9.126216e+02                      1.243000e+02                      10.12   \n",
       "4  1.658614e+11                      9.400000e+00                      65.33   \n",
       "\n",
       "   Rotary RPM (RPM)  Total Pump Output (gal_per_min)  Weight on Bit (klbs)  \n",
       "0              8.06                           604.15                  56.0  \n",
       "1             29.54                           769.07                  34.3  \n",
       "2             29.62                           771.56                  14.1  \n",
       "3             29.48                           784.98                  13.6  \n",
       "4             28.75                           708.25                   6.2  "
      ]
     },
     "execution_count": 3,
     "metadata": {},
     "output_type": "execute_result"
    }
   ],
   "source": [
    "df = pd.read_csv(Path('../Drilling_ML/Cleaned Drilling Parameters.csv'))\n",
    "df.head()"
   ]
  },
  {
   "cell_type": "code",
   "execution_count": 22,
   "id": "0c58e2e1",
   "metadata": {},
   "outputs": [
    {
     "data": {
      "image/png": "[encoded data removed]",
      "text/plain": [
       "<Figure size 432x288 with 1 Axes>"
      ]
     },
     "metadata": {
      "needs_background": "light"
     },
     "output_type": "display_data"
    }
   ],
   "source": [
    "x = df[\"Weight on Bit (klbs)\"] * df[\"Gamma (api)\"]\n",
    "y = df[\"On Bottom ROP (ft_per_hr)\"]\n",
    "plt.scatter(x, y)\n",
    "plt.xlabel(x.name)\n",
    "plt.ylabel(y.name)\n",
    "plt.show()"
   ]
  },
  {
   "cell_type": "code",
   "execution_count": 23,
   "id": "835515f8",
   "metadata": {},
   "outputs": [],
   "source": [
    "df = df[(x < 100)& (y < 1000)]"
   ]
  },
  {
   "cell_type": "code",
   "execution_count": 24,
   "id": "c309b369",
   "metadata": {},
   "outputs": [],
   "source": [
    "y = df[\"On Bottom ROP (ft_per_hr)\"]"
   ]
  },
  {
   "cell_type": "code",
   "execution_count": 25,
   "id": "5b6d906d",
   "metadata": {},
   "outputs": [],
   "source": [
    "model = LinearRegression()"
   ]
  },
  {
   "cell_type": "code",
   "execution_count": 26,
   "id": "e5978a3d",
   "metadata": {},
   "outputs": [],
   "source": [
    "x = df[\"Weight on Bit (klbs)\"].values.reshape(-1, 1)"
   ]
  },
  {
   "cell_type": "code",
   "execution_count": 27,
   "id": "ca1c4d2a",
   "metadata": {},
   "outputs": [
    {
     "data": {
      "text/plain": [
       "array([[14.3],\n",
       "       [23.8],\n",
       "       [29.4],\n",
       "       [ 9.2],\n",
       "       [20. ]])"
      ]
     },
     "execution_count": 27,
     "metadata": {},
     "output_type": "execute_result"
    }
   ],
   "source": [
    "x[:5]"
   ]
  },
  {
   "cell_type": "code",
   "execution_count": 28,
   "id": "c0a64c19",
   "metadata": {},
   "outputs": [
    {
     "data": {
      "text/plain": [
       "(258, 1)"
      ]
     },
     "execution_count": 28,
     "metadata": {},
     "output_type": "execute_result"
    }
   ],
   "source": [
    "x.shape"
   ]
  },
  {
   "cell_type": "code",
   "execution_count": 29,
   "id": "7901db59",
   "metadata": {},
   "outputs": [
    {
     "data": {
      "text/plain": [
       "LinearRegression()"
      ]
     },
     "execution_count": 29,
     "metadata": {},
     "output_type": "execute_result"
    }
   ],
   "source": [
    "model.fit(x, y)"
   ]
  },
  {
   "cell_type": "code",
   "execution_count": 30,
   "id": "fe183a8c",
   "metadata": {},
   "outputs": [
    {
     "name": "stdout",
     "output_type": "stream",
     "text": [
      "(258,)\n"
     ]
    }
   ],
   "source": [
    "y_pred = model.predict(x)\n",
    "print(y_pred.shape)"
   ]
  },
  {
   "cell_type": "code",
   "execution_count": 31,
   "id": "31f751ca",
   "metadata": {},
   "outputs": [
    {
     "data": {
      "image/png": "[encoded data removed]",
      "text/plain": [
       "<Figure size 432x288 with 1 Axes>"
      ]
     },
     "metadata": {
      "needs_background": "light"
     },
     "output_type": "display_data"
    }
   ],
   "source": [
    "plt.scatter(x, y)\n",
    "plt.plot(x, y_pred, color='red')\n",
    "plt.show()"
   ]
  },
  {
   "cell_type": "code",
   "execution_count": null,
   "id": "ce0844f3",
   "metadata": {},
   "outputs": [],
   "source": []
  }
 ],
 "metadata": {
  "kernelspec": {
   "display_name": "mlenv",
   "language": "python",
   "name": "mlenv"
  },
  "language_info": {
   "codemirror_mode": {
    "name": "ipython",
    "version": 3
   },
   "file_extension": ".py",
   "mimetype": "text/x-python",
   "name": "python",
   "nbconvert_exporter": "python",
   "pygments_lexer": "ipython3",
   "version": "3.7.10"
  }
 },
 "nbformat": 4,
 "nbformat_minor": 5
}
