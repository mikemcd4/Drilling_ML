{
 "cells": [
  {
   "cell_type": "markdown",
   "id": "7321544a",
   "metadata": {},
   "source": [
    "# Import Dependencies"
   ]
  },
  {
   "cell_type": "code",
   "execution_count": 1,
   "id": "fe341684",
   "metadata": {},
   "outputs": [],
   "source": [
    "import pandas as pd"
   ]
  },
  {
   "cell_type": "markdown",
   "id": "2dc9974c",
   "metadata": {},
   "source": [
    "# Load Test Data"
   ]
  },
  {
   "cell_type": "code",
   "execution_count": 7,
   "id": "5bdb1ed2",
   "metadata": {},
   "outputs": [],
   "source": [
    "df_test = pd.read_csv('/Users/mcj/Documents/GitHub Projects/Drilling_ML/Drilling_ML Test Data.csv')"
   ]
  },
  {
   "cell_type": "markdown",
   "id": "6c2656c2",
   "metadata": {},
   "source": [
    "# Clean Test Data"
   ]
  },
  {
   "cell_type": "code",
   "execution_count": 9,
   "id": "0f007326",
   "metadata": {},
   "outputs": [
    {
     "name": "stdout",
     "output_type": "stream",
     "text": [
      "<class 'pandas.core.frame.DataFrame'>\n",
      "Int64Index: 1511 entries, 12 to 12556\n",
      "Data columns (total 39 columns):\n",
      " #   Column                              Non-Null Count  Dtype  \n",
      "---  ------                              --------------  -----  \n",
      " 0   Hole Depth (feet)                   1511 non-null   float64\n",
      " 1   Bit Depth (feet)                    1511 non-null   float64\n",
      " 2   Axial G (G)                         1511 non-null   float64\n",
      " 3   Azimuth (degrees)                   1511 non-null   float64\n",
      " 4   Bit RPM (RPM)                       1511 non-null   int64  \n",
      " 5   Bit Torque (kft_lb)                 1511 non-null   int64  \n",
      " 6   Block Height (feet)                 1511 non-null   float64\n",
      " 7   Calc Off Bottom Torque (Units)      1511 non-null   float64\n",
      " 8   Calc. HKLD (Klbs)                   1511 non-null   float64\n",
      " 9   Calc. Off Bottom Press. (PSI)       1511 non-null   float64\n",
      " 10  Convertible Torque (kft_lb)         1511 non-null   float64\n",
      " 11  Depth of Cut (in)                   1511 non-null   float64\n",
      " 12  Differential Pressure (psi)         1511 non-null   float64\n",
      " 13  DiffP Derivative (Units)            1511 non-null   float64\n",
      " 14  Flow (flow_percent)                 1511 non-null   float64\n",
      " 15  Gamma (api)                         1511 non-null   float64\n",
      " 16  Gamma/ROP (Units)                   1511 non-null   float64\n",
      " 17  Gravity Toolface (degrees)          1511 non-null   int64  \n",
      " 18  Hook Load (klbs)                    1511 non-null   float64\n",
      " 19  Inclination (degrees)               1511 non-null   float64\n",
      " 20  Lateral G (G)                       1511 non-null   float64\n",
      " 21  Live Azi (Degree)                   1511 non-null   float64\n",
      " 22  Magnetic Toolface (degrees)         1511 non-null   int64  \n",
      " 23  Mechanical Specific Energy (ksi)    1511 non-null   float64\n",
      " 24  Motor RPM (RPM)                     1511 non-null   int64  \n",
      " 25  MWD RPM (RPM)                       1511 non-null   float64\n",
      " 26  On Bottom ROP (ft_per_hr)           1511 non-null   float64\n",
      " 27  Pump Total Strokes Rate (SPM)       1511 non-null   int64  \n",
      " 28  PVT Total Mud Gain/Loss (barrels)   1511 non-null   float64\n",
      " 29  Rig Sub State (unitless)            1511 non-null   float64\n",
      " 30  Rig Super State (unitless)          1511 non-null   float64\n",
      " 31  Rotary RPM (RPM)                    1511 non-null   float64\n",
      " 32  Standpipe Pressure (psi)            1511 non-null   float64\n",
      " 33  Surface Stick Slip Index (percent)  1511 non-null   float64\n",
      " 34  Total Pump Output (gal_per_min)     1511 non-null   float64\n",
      " 35  Trip Speed (ft_per_hr)              1511 non-null   float64\n",
      " 36  Weight on Bit (klbs)                1511 non-null   float64\n",
      " 37  YYYY/MM/DD                          1511 non-null   object \n",
      " 38  HH:MM:SS                            1511 non-null   object \n",
      "dtypes: float64(31), int64(6), object(2)\n",
      "memory usage: 472.2+ KB\n"
     ]
    }
   ],
   "source": [
    "# Fill missing gamma data\n",
    "# df_test['Gamma (api)'] = df_test['Gamma/ROP (API)'] * df_test['On Bottom ROP (ft_per_hr)']\n",
    "\n",
    "# Filter for Differential Pressure > 0\n",
    "df_test = df_test[df_test['Differential Pressure (psi)'] > 0]\n",
    "\n",
    "# Filter for ROP < 750\n",
    "df_test = df_test[df_test['On Bottom ROP (ft_per_hr)'] < 750]\n",
    "\n",
    "# Filter for WOB > 15 and < 85\n",
    "df_test = df_test[(df_test['Weight on Bit (klbs)'] > 15) & (df_test['Weight on Bit (klbs)'] < 85)]\n",
    "\n",
    "# Filter for RPM > 60\n",
    "df_test = df_test[df_test['Rotary RPM (RPM)'] > 60]\n",
    "\n",
    "# Filter for Gamma < 200\n",
    "df_test = df_test[(df_test['Gamma (api)'] < 200) & (df_test['Gamma (api)'] > 0)]\n",
    "\n",
    "# Filter MSE < 60\n",
    "df_test = df_test[df_test['Mechanical Specific Energy (ksi)'] < 40]\n",
    "\n",
    "# Check for non-nulls\n",
    "df_test.info()"
   ]
  },
  {
   "cell_type": "markdown",
   "id": "a4129f2c",
   "metadata": {},
   "source": [
    "# Drop Columns"
   ]
  },
  {
   "cell_type": "code",
   "execution_count": 11,
   "id": "cf8179e0",
   "metadata": {},
   "outputs": [],
   "source": [
    "df_test = df_test[['Gamma (api)', 'Weight on Bit (klbs)', 'On Bottom ROP (ft_per_hr)']]"
   ]
  },
  {
   "cell_type": "markdown",
   "id": "88228bba",
   "metadata": {},
   "source": [
    "# Create X_test Variable"
   ]
  },
  {
   "cell_type": "code",
   "execution_count": 12,
   "id": "ea07f36b",
   "metadata": {},
   "outputs": [],
   "source": [
    "df_test['Gamma * WOB'] = df_test['Gamma (api)'] * df_test['Weight on Bit (klbs)']"
   ]
  },
  {
   "cell_type": "markdown",
   "id": "8808cd18",
   "metadata": {},
   "source": [
    "# Export Test Data"
   ]
  },
  {
   "cell_type": "code",
   "execution_count": 13,
   "id": "b0433b35",
   "metadata": {},
   "outputs": [],
   "source": [
    "df_test.to_csv('Drilling_ML Test Data.csv', index=None)"
   ]
  }
 ],
 "metadata": {
  "kernelspec": {
   "display_name": "Python 3",
   "language": "python",
   "name": "python3"
  },
  "language_info": {
   "codemirror_mode": {
    "name": "ipython",
    "version": 3
   },
   "file_extension": ".py",
   "mimetype": "text/x-python",
   "name": "python",
   "nbconvert_exporter": "python",
   "pygments_lexer": "ipython3",
   "version": "3.8.5"
  }
 },
 "nbformat": 4,
 "nbformat_minor": 5
}
