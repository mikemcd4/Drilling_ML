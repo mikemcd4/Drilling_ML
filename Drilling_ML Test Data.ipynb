{
 "cells": [
  {
   "cell_type": "markdown",
   "id": "a958fc14",
   "metadata": {},
   "source": [
    "# Import Dependencies"
   ]
  },
  {
   "cell_type": "code",
   "execution_count": 1,
   "id": "35a2694f",
   "metadata": {},
   "outputs": [],
   "source": [
    "import pandas as pd\n",
    "import numpy as np\n",
    "import random"
   ]
  },
  {
   "cell_type": "markdown",
   "id": "40243a58",
   "metadata": {},
   "source": [
    "# Create Test Data"
   ]
  },
  {
   "cell_type": "code",
   "execution_count": 2,
   "id": "a750d246",
   "metadata": {},
   "outputs": [],
   "source": [
    "# WOB test data\n",
    "wob_test = np.random.randint(15, 60, size=10000)"
   ]
  },
  {
   "cell_type": "code",
   "execution_count": 3,
   "id": "dfa822df",
   "metadata": {},
   "outputs": [],
   "source": [
    "# Gamma test data\n",
    "gamma_test = np.random.randint(40, 200, size=10000)"
   ]
  },
  {
   "cell_type": "code",
   "execution_count": 4,
   "id": "6feb04e8",
   "metadata": {},
   "outputs": [],
   "source": [
    "# Create dataframe\n",
    "df_test = pd.DataFrame({\n",
    "    'WOB Test':wob_test,\n",
    "    'Gama Test':gamma_test})"
   ]
  },
  {
   "cell_type": "code",
   "execution_count": 5,
   "id": "70adb0e2",
   "metadata": {},
   "outputs": [],
   "source": [
    "# Create WOB x Gamma data\n",
    "df_test['WOB*Gamma'] = df_test['WOB Test'] * df_test['Gama Test']"
   ]
  },
  {
   "cell_type": "code",
   "execution_count": 6,
   "id": "8223fd2d",
   "metadata": {},
   "outputs": [],
   "source": [
    "# Export to CSV\n",
    "df_test.to_csv('Drilling_ML Test Data.csv', index=None)"
   ]
  }
 ],
 "metadata": {
  "kernelspec": {
   "display_name": "Python 3",
   "language": "python",
   "name": "python3"
  },
  "language_info": {
   "codemirror_mode": {
    "name": "ipython",
    "version": 3
   },
   "file_extension": ".py",
   "mimetype": "text/x-python",
   "name": "python",
   "nbconvert_exporter": "python",
   "pygments_lexer": "ipython3",
   "version": "3.8.5"
  }
 },
 "nbformat": 4,
 "nbformat_minor": 5
}
