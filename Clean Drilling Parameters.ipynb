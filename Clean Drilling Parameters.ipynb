{
 "cells": [
  {
   "cell_type": "markdown",
   "id": "df0d783b",
   "metadata": {},
   "source": [
    "# Import Dependencies"
   ]
  },
  {
   "cell_type": "code",
   "execution_count": 1,
   "id": "adaeaf6a",
   "metadata": {},
   "outputs": [],
   "source": [
    "import pandas as pd\n",
    "import glob"
   ]
  },
  {
   "cell_type": "markdown",
   "id": "6ee19529",
   "metadata": {},
   "source": [
    "# Import Data"
   ]
  },
  {
   "cell_type": "code",
   "execution_count": 2,
   "id": "2c9d87b3",
   "metadata": {},
   "outputs": [],
   "source": [
    "# File path\n",
    "path = '/Users/mcj/Desktop/UT Data Analytics Bootcamp/Final Project/Data'\n",
    "\n",
    "# n is used to rename the well name as Well Name 'n' the number of wells in the data set.\n",
    "n = 1\n",
    "\n",
    "# Create empty list to store df for each CSV file in the path\n",
    "dfs = []\n",
    "\n",
    "# for loop to create a df from each file in the path\n",
    "for file in glob.glob(path + \"/*.csv\"):\n",
    "    df = pd.read_csv(str(file), parse_dates=[['YYYY/MM/DD', 'HH:MM:SS']])\n",
    "    df['Well Name'] = f\"Well {n}\"\n",
    "    dfs.append(df)\n",
    "    n += 1\n",
    "    \n",
    "# Concat the  list of dfs into one df\n",
    "df = pd.concat(dfs)"
   ]
  },
  {
   "cell_type": "markdown",
   "id": "b21aba18",
   "metadata": {},
   "source": [
    "# Clean Data"
   ]
  },
  {
   "cell_type": "code",
   "execution_count": 3,
   "id": "820f2e8f",
   "metadata": {},
   "outputs": [
    {
     "name": "stdout",
     "output_type": "stream",
     "text": [
      "<class 'pandas.core.frame.DataFrame'>\n",
      "Int64Index: 51788 entries, 0 to 10264\n",
      "Data columns (total 40 columns):\n",
      " #   Column                              Non-Null Count  Dtype         \n",
      "---  ------                              --------------  -----         \n",
      " 0   YYYY/MM/DD_HH:MM:SS                 51788 non-null  datetime64[ns]\n",
      " 1   Hole Depth (feet)                   51788 non-null  int64         \n",
      " 2   Bit Depth (feet)                    51788 non-null  int64         \n",
      " 3   Axial Shock (G)                     51788 non-null  float64       \n",
      " 4   Azimuth (degrees)                   51788 non-null  float64       \n",
      " 5   Bit RPM (RPM)                       51788 non-null  int64         \n",
      " 6   Bit Torque (kft_lb)                 51788 non-null  int64         \n",
      " 7   Block Height (feet)                 51788 non-null  float64       \n",
      " 8   Calc. HKLD (klbs)                   51788 non-null  float64       \n",
      " 9   Calc. Off Bottom Press. (psi)       51788 non-null  float64       \n",
      " 10  Calc. Off Bottom Torque (kft-lb)    51788 non-null  float64       \n",
      " 11  Convertible Torque (kft_lb)         51788 non-null  float64       \n",
      " 12  Depth of Cut (in)                   51788 non-null  float64       \n",
      " 13  Differential Pressure (psi)         51788 non-null  float64       \n",
      " 14  DiffP Derivative (PSI)              51788 non-null  float64       \n",
      " 15  Flow (flow_percent)                 51788 non-null  float64       \n",
      " 16  Gamma (api)                         51788 non-null  float64       \n",
      " 17  Gamma/ROP (API)                     51788 non-null  float64       \n",
      " 18  Gravity Toolface (degrees)          51788 non-null  int64         \n",
      " 19  Hook Load (klbs)                    51788 non-null  float64       \n",
      " 20  Inclination (degrees)               51788 non-null  float64       \n",
      " 21  Lateral Shock (G)                   51788 non-null  float64       \n",
      " 22  Magnetic Toolface (degrees)         51788 non-null  int64         \n",
      " 23  Mechanical Specific Energy (ksi)    51788 non-null  float64       \n",
      " 24  Motor RPM (RPM)                     51788 non-null  int64         \n",
      " 25  MWD DYNAMIC INC (degrees)           51788 non-null  float64       \n",
      " 26  MWD Tool RPM (RPM)                  51788 non-null  float64       \n",
      " 27  On Bottom ROP (ft_per_hr)           51788 non-null  float64       \n",
      " 28  Pump Total Strokes Rate (SPM)       51788 non-null  int64         \n",
      " 29  PVT Total Mud Gain/Loss (barrels)   51788 non-null  float64       \n",
      " 30  Rig Sub State (unitless)            51788 non-null  float64       \n",
      " 31  Rig Super State (unitless)          51788 non-null  float64       \n",
      " 32  Rotary RPM (RPM)                    51788 non-null  float64       \n",
      " 33  Standpipe Pressure (psi)            51788 non-null  float64       \n",
      " 34  Surface Stick Slip Index (percent)  51788 non-null  float64       \n",
      " 35  Total Pump Output (gal_per_min)     51788 non-null  float64       \n",
      " 36  Trip Speed (ft_per_hr)              51788 non-null  float64       \n",
      " 37  Weight on Bit (klbs)                51788 non-null  float64       \n",
      " 38  Well Name                           51788 non-null  object        \n",
      " 39  MWD DYN AZM (Degrees)               20372 non-null  float64       \n",
      "dtypes: datetime64[ns](1), float64(30), int64(8), object(1)\n",
      "memory usage: 16.2+ MB\n"
     ]
    }
   ],
   "source": [
    "# Fill missing gamma data\n",
    "df['Gamma (api)'] = df['Gamma/ROP (API)'] * df['On Bottom ROP (ft_per_hr)']\n",
    "df.info()"
   ]
  },
  {
   "cell_type": "markdown",
   "id": "55b9d02c",
   "metadata": {},
   "source": [
    "# Filter to Desired Parameters"
   ]
  },
  {
   "cell_type": "code",
   "execution_count": 4,
   "id": "5e5d062b",
   "metadata": {},
   "outputs": [],
   "source": [
    "# Select desired parameters\n",
    "df = df[['Well Name', 'Bit RPM (RPM)', 'Bit Torque (kft_lb)', 'Depth of Cut (in)',\n",
    "         'Gamma (api)', 'Mechanical Specific Energy (ksi)', 'On Bottom ROP (ft_per_hr)', \n",
    "         'Rotary RPM (RPM)', 'Total Pump Output (gal_per_min)', 'Weight on Bit (klbs)']]"
   ]
  },
  {
   "cell_type": "code",
   "execution_count": 5,
   "id": "e8553e84",
   "metadata": {},
   "outputs": [
    {
     "name": "stdout",
     "output_type": "stream",
     "text": [
      "<class 'pandas.core.frame.DataFrame'>\n",
      "Int64Index: 51788 entries, 0 to 10264\n",
      "Data columns (total 10 columns):\n",
      " #   Column                            Non-Null Count  Dtype  \n",
      "---  ------                            --------------  -----  \n",
      " 0   Well Name                         51788 non-null  object \n",
      " 1   Bit RPM (RPM)                     51788 non-null  int64  \n",
      " 2   Bit Torque (kft_lb)               51788 non-null  int64  \n",
      " 3   Depth of Cut (in)                 51788 non-null  float64\n",
      " 4   Gamma (api)                       51788 non-null  float64\n",
      " 5   Mechanical Specific Energy (ksi)  51788 non-null  float64\n",
      " 6   On Bottom ROP (ft_per_hr)         51788 non-null  float64\n",
      " 7   Rotary RPM (RPM)                  51788 non-null  float64\n",
      " 8   Total Pump Output (gal_per_min)   51788 non-null  float64\n",
      " 9   Weight on Bit (klbs)              51788 non-null  float64\n",
      "dtypes: float64(7), int64(2), object(1)\n",
      "memory usage: 4.3+ MB\n"
     ]
    }
   ],
   "source": [
    "df.info()"
   ]
  },
  {
   "cell_type": "markdown",
   "id": "806019e0",
   "metadata": {},
   "source": [
    "# Save Cleaned Data to CSV"
   ]
  },
  {
   "cell_type": "code",
   "execution_count": 6,
   "id": "ae39cc2f",
   "metadata": {},
   "outputs": [],
   "source": [
    "df.to_csv('Cleaned Drilling Parameters.csv', index=None)"
   ]
  }
 ],
 "metadata": {
  "kernelspec": {
   "display_name": "Python 3",
   "language": "python",
   "name": "python3"
  },
  "language_info": {
   "codemirror_mode": {
    "name": "ipython",
    "version": 3
   },
   "file_extension": ".py",
   "mimetype": "text/x-python",
   "name": "python",
   "nbconvert_exporter": "python",
   "pygments_lexer": "ipython3",
   "version": "3.8.5"
  }
 },
 "nbformat": 4,
 "nbformat_minor": 5
}
